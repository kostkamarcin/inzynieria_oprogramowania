{
  "nbformat": 4,
  "nbformat_minor": 0,
  "metadata": {
    "colab": {
      "provenance": [],
      "authorship_tag": "ABX9TyNPu0B7E9X29ciRJqDWh090",
      "include_colab_link": true
    },
    "kernelspec": {
      "name": "python3",
      "display_name": "Python 3"
    },
    "language_info": {
      "name": "python"
    }
  },
  "cells": [
    {
      "cell_type": "markdown",
      "metadata": {
        "id": "view-in-github",
        "colab_type": "text"
      },
      "source": [
        "<a href=\"https://colab.research.google.com/github/kostkamarcin/inzynieria_oprogramowania/blob/main/UM_projekt.ipynb\" target=\"_parent\"><img src=\"https://colab.research.google.com/assets/colab-badge.svg\" alt=\"Open In Colab\"/></a>"
      ]
    },
    {
      "cell_type": "code",
      "source": [
        "import pandas as pd\n",
        "from sklearn.model_selection import train_test_split\n",
        "from sklearn.ensemble import RandomForestClassifier\n",
        "from sklearn.metrics import accuracy_score, classification_report\n",
        "from sklearn.linear_model import LogisticRegression\n",
        "import xgboost as xgb\n",
        "from sklearn.svm import SVCfrom sklearn.neighbors import KNeighborsClassifier\n",
        "from sklearn.preprocessing import StandardScaler"
      ],
      "metadata": {
        "id": "vl87bsuxWNNK"
      },
      "execution_count": null,
      "outputs": []
    },
    {
      "cell_type": "code",
      "source": [
        "data_path = '/content/weatherHistory.csv'\n",
        "weather_data = pd.read_csv(data_path)"
      ],
      "metadata": {
        "id": "lHDJ00SeWUyU"
      },
      "execution_count": null,
      "outputs": []
    },
    {
      "cell_type": "code",
      "execution_count": null,
      "metadata": {
        "id": "G65tbRS3G3lw"
      },
      "outputs": [],
      "source": [
        "eather_data_cleaned = weather_data.drop(['Formatted Date', 'Summary', 'Daily Summary', 'Loud Cover'], axis=1)\n",
        "\n",
        "\n",
        "weather_data_cleaned['Precip Type'] = weather_data_cleaned['Precip Type'].fillna('none')\n",
        "weather_data_cleaned['Precip Type'] = weather_data_cleaned['Precip Type'].apply(lambda x: 1 if x in ['rain', 'snow'] else 0)\n",
        "\n",
        "\n",
        "X = weather_data_cleaned.drop('Precip Type', axis=1)\n",
        "y = weather_data_cleaned['Precip Type']\n",
        "\n",
        "\n",
        "X_train, X_test, y_train, y_test = train_test_split(X, y, test_size=0.2, random_state=42)\n",
        "\n",
        "\n",
        "model = RandomForestClassifier(n_estimators=100, random_state=42)\n",
        "model.fit(X_train, y_train)\n",
        "\n",
        "\n",
        "y_pred = model.predict(X_test)\n",
        "\n",
        "\n",
        "accuracy = accuracy_score(y_test, y_pred)\n",
        "report = classification_report(y_test, y_pred)\n",
        "\n",
        "print(f\"Accuracy: {accuracy}\")\n",
        "print(\"Classification Report:\")\n",
        "print(report)\n"
      ]
    },
    {
      "cell_type": "code",
      "source": [
        "weather_data_cleaned = weather_data.drop(['Formatted Date', 'Summary', 'Daily Summary', 'Loud Cover'], axis=1)\n",
        "\n",
        "\n",
        "weather_data_cleaned['Precip Type'] = weather_data_cleaned['Precip Type'].fillna('none')\n",
        "weather_data_cleaned['Precip Type'] = weather_data_cleaned['Precip Type'].apply(lambda x: 1 if x in ['rain', 'snow'] else 0)\n",
        "\n",
        "\n",
        "X = weather_data_cleaned.drop('Precip Type', axis=1)\n",
        "y = weather_data_cleaned['Precip Type']\n",
        "\n",
        "\n",
        "X_train, X_test, y_train, y_test = train_test_split(X, y, test_size=0.2, random_state=42)\n",
        "\n",
        "\n",
        "logistic_model = LogisticRegression(max_iter=1000, random_state=42)\n",
        "logistic_model.fit(X_train, y_train)\n",
        "\n",
        "\n",
        "y_pred_logistic = logistic_model.predict(X_test)\n",
        "\n",
        "\n",
        "accuracy_logistic = accuracy_score(y_test, y_pred_logistic)\n",
        "report_logistic = classification_report(y_test, y_pred_logistic)\n",
        "\n",
        "print(f\"Accuracy (Logistic Regression): {accuracy_logistic}\")\n",
        "print(\"Classification Report (Logistic Regression):\")\n",
        "print(report_logistic)\n"
      ],
      "metadata": {
        "id": "pBd__S3-t-dk"
      },
      "execution_count": null,
      "outputs": []
    },
    {
      "cell_type": "code",
      "source": [
        "weather_data['Precip Type'] = weather_data['Precip Type'].fillna('none')\n",
        "weather_data['Precip Type'] = weather_data['Precip Type'].apply(lambda x: 1 if x in ['rain', 'snow'] else 0)\n",
        "X = weather_data.drop(['Precip Type', 'Formatted Date', 'Summary', 'Daily Summary', 'Loud Cover'], axis=1)\n",
        "y = weather_data['Precip Type']\n",
        "\n",
        "X_train, X_test, y_train, y_test = train_test_split(X, y, test_size=0.2, random_state=42)\n",
        "\n",
        "model = xgb.XGBClassifier(use_label_encoder=False, eval_metric='logloss')\n",
        "model.fit(X_train, y_train)\n",
        "\n",
        "y_pred = model.predict(X_test)\n",
        "\n",
        "accuracy = accuracy_score(y_test, y_pred)\n",
        "report = classification_report(y_test, y_pred)\n",
        "\n",
        "print(f\"Accuracy: {accuracy}\")\n",
        "print(\"Classification Report:\")\n",
        "print(report)\n"
      ],
      "metadata": {
        "id": "-qvIxWEsu-Sw"
      },
      "execution_count": null,
      "outputs": []
    },
    {
      "cell_type": "code",
      "source": [
        "data_path = '/content/weatherHistory.csv'\n",
        "weather_data = pd.read_csv(data_path)\n",
        "\n",
        "weather_data['Formatted Date'] = pd.to_datetime(weather_data['Formatted Date'], utc=True)\n",
        "weather_data['year'] = weather_data['Formatted Date'].dt.year\n",
        "weather_data['month'] = weather_data['Formatted Date'].dt.month\n",
        "weather_data['day'] = weather_data['Formatted Date'].dt.day\n",
        "weather_data['hour'] = weather_data['Formatted Date'].dt.hour\n",
        "weather_data['dayofweek'] = weather_data['Formatted Date'].dt.dayofweek\n",
        "\n",
        "weather_data_cleaned = weather_data.drop(['Formatted Date', 'Summary', 'Daily Summary', 'Loud Cover'], axis=1)\n",
        "\n",
        "weather_data_cleaned['Precip Type'] = weather_data_cleaned['Precip Type'].fillna('none')\n",
        "weather_data_cleaned['Precip Type'] = weather_data_cleaned['Precip Type'].apply(lambda x: 1 if x in ['rain', 'snow'] else 0)\n",
        "\n",
        "X = weather_data_cleaned.drop('Precip Type', axis=1)\n",
        "y = weather_data_cleaned['Precip Type']\n",
        "\n",
        "X_train, X_test, y_train, y_test = train_test_split(X, y, test_size=0.2, random_state=42)\n",
        "\n",
        "model = RandomForestClassifier(n_estimators=100, random_state=42)\n",
        "model.fit(X_train, y_train)\n",
        "\n",
        "y_pred = model.predict(X_test)\n",
        "\n",
        "accuracy = accuracy_score(y_test, y_pred)\n",
        "report = classification_report(y_test, y_pred)\n",
        "\n",
        "print(f\"Accuracy: {accuracy}\")\n",
        "print(\"Classification Report:\")\n",
        "print(report)\n"
      ],
      "metadata": {
        "id": "bTYxEaMv979U"
      },
      "execution_count": null,
      "outputs": []
    },
    {
      "cell_type": "code",
      "source": [
        "weather_data['Formatted Date'] = pd.to_datetime(weather_data['Formatted Date'], utc=True)\n",
        "weather_data['year'] = weather_data['Formatted Date'].dt.year\n",
        "weather_data['month'] = weather_data['Formatted Date'].dt.month\n",
        "weather_data['day'] = weather_data['Formatted Date'].dt.day\n",
        "weather_data['hour'] = weather_data['Formatted Date'].dt.hour\n",
        "weather_data['dayofweek'] = weather_data['Formatted Date'].dt.dayofweek\n",
        "\n",
        "weather_data_cleaned = weather_data.drop(['Formatted Date', 'Summary', 'Daily Summary', 'Loud Cover'], axis=1)\n",
        "weather_data_cleaned['Precip Type'] = weather_data_cleaned['Precip Type'].fillna('none')\n",
        "weather_data_cleaned['Precip Type'] = weather_data_cleaned['Precip Type'].apply(lambda x: 1 if x in ['rain', 'snow'] else 0)\n",
        "X = weather_data_cleaned.drop('Precip Type', axis=1)\n",
        "y = weather_data_cleaned['Precip Type']\n",
        "\n",
        "X_train, X_test, y_train, y_test = train_test_split(X, y, test_size=0.2, random_state=42)\n",
        "\n",
        "logistic_model = LogisticRegression(max_iter=1000, random_state=42)\n",
        "logistic_model.fit(X_train, y_train)\n",
        "\n",
        "y_pred_logistic = logistic_model.predict(X_test)\n",
        "accuracy_logistic = accuracy_score(y_test, y_pred_logistic)\n",
        "report_logistic = classification_report(y_test, y_pred_logistic)\n",
        "\n",
        "print(f\"Accuracy (Logistic Regression): {accuracy_logistic}\")\n",
        "print(\"Classification Report (Logistic Regression):\")\n",
        "print(report_logistic)\n"
      ],
      "metadata": {
        "id": "eLlGmWPXtIz4"
      },
      "execution_count": null,
      "outputs": []
    },
    {
      "cell_type": "code",
      "source": [
        "weather_data['Formatted Date'] = pd.to_datetime(weather_data['Formatted Date'], utc=True)\n",
        "weather_data['year'] = weather_data['Formatted Date'].dt.year\n",
        "weather_data['month'] = weather_data['Formatted Date'].dt.month\n",
        "weather_data['day'] = weather_data['Formatted Date'].dt.day\n",
        "weather_data['hour'] = weather_data['Formatted Date'].dt.hour\n",
        "weather_data['dayofweek'] = weather_data['Formatted Date'].dt.dayofweek\n",
        "\n",
        "weather_data_cleaned = weather_data.drop(['Formatted Date', 'Summary', 'Daily Summary', 'Loud Cover'], axis=1)\n",
        "weather_data_cleaned['Precip Type'] = weather_data_cleaned['Precip Type'].fillna('none')\n",
        "weather_data_cleaned['Precip Type'] = weather_data_cleaned['Precip Type'].apply(lambda x: 1 if x in ['rain', 'snow'] else 0)\n",
        "X = weather_data_cleaned.drop('Precip Type', axis=1)\n",
        "y = weather_data_cleaned['Precip Type']\n",
        "\n",
        "X_train, X_test, y_train, y_test = train_test_split(X, y, test_size=0.2, random_state=42)\n",
        "\n",
        "svm_model = SVC(kernel='poly')\n",
        "svm_model.fit(X_train, y_train)\n",
        "\n",
        "y_pred_svm = svm_model.predict(X_test)\n",
        "accuracy_svm = accuracy_score(y_test, y_pred_svm)\n",
        "report_svm = classification_report(y_test, y_pred_svm)\n",
        "\n",
        "print(f\"Accuracy (SVM): {accuracy_svm}\")\n",
        "print(\"Classification Report (SVM):\")\n",
        "print(report_svm)\n"
      ],
      "metadata": {
        "id": "jCUD0JFPrplU"
      },
      "execution_count": null,
      "outputs": []
    },
    {
      "cell_type": "code",
      "source": [
        "weather_data['Formatted Date'] = pd.to_datetime(weather_data['Formatted Date'], utc=True)\n",
        "weather_data['year'] = weather_data['Formatted Date'].dt.year\n",
        "weather_data['month'] = weather_data['Formatted Date'].dt.month\n",
        "weather_data['day'] = weather_data['Formatted Date'].dt.day\n",
        "weather_data['hour'] = weather_data['Formatted Date'].dt.hour\n",
        "weather_data['dayofweek'] = weather_data['Formatted Date'].dt.dayofweek\n",
        "\n",
        "weather_data_cleaned = weather_data.drop(['Formatted Date', 'Summary', 'Daily Summary', 'Loud Cover'], axis=1)\n",
        "weather_data_cleaned['Precip Type'] = weather_data_cleaned['Precip Type'].fillna('none')\n",
        "weather_data_cleaned['Precip Type'] = weather_data_cleaned['Precip Type'].apply(lambda x: 1 if x in ['rain', 'snow'] else 0)\n",
        "X = weather_data_cleaned.drop('Precip Type', axis=1)\n",
        "y = weather_data_cleaned['Precip Type']\n",
        "\n",
        "scaler = StandardScaler()\n",
        "X_scaled = scaler.fit_transform(X)\n",
        "\n",
        "X_train, X_test, y_train, y_test = train_test_split(X_scaled, y, test_size=0.2, random_state=42)\n",
        "\n",
        "knn_model = KNeighborsClassifier(n_neighbors=5)\n",
        "knn_model.fit(X_train, y_train)\n",
        "\n",
        "y_pred_knn = knn_model.predict(X_test)\n",
        "accuracy_knn = accuracy_score(y_test, y_pred_knn)\n",
        "report_knn = classification_report(y_test, y_pred_knn)\n",
        "\n",
        "print(f\"Accuracy (KNN): {accuracy_knn}\")\n",
        "print(\"Classification Report (KNN):\")\n",
        "print(report_knn)\n"
      ],
      "metadata": {
        "id": "PiwOauYjujSq"
      },
      "execution_count": null,
      "outputs": []
    },
    {
      "cell_type": "code",
      "source": [
        "weather_data['Formatted Date'] = pd.to_datetime(weather_data['Formatted Date'], utc=True)\n",
        "weather_data['year'] = weather_data['Formatted Date'].dt.year\n",
        "weather_data['month'] = weather_data['Formatted Date'].dt.month\n",
        "weather_data['day'] = weather_data['Formatted Date'].dt.day\n",
        "weather_data['hour'] = weather_data['Formatted Date'].dt.hour\n",
        "weather_data['dayofweek'] = weather_data['Formatted Date'].dt.dayofweek\n",
        "\n",
        "weather_data_cleaned = weather_data.drop(['Formatted Date', 'Summary', 'Daily Summary', 'Loud Cover'], axis=1)\n",
        "weather_data_cleaned['Precip Type'] = weather_data_cleaned['Precip Type'].fillna('none')\n",
        "weather_data_cleaned['Precip Type'] = weather_data_cleaned['Precip Type'].apply(lambda x: 1 if x in ['rain', 'snow'] else 0)\n",
        "X = weather_data_cleaned.drop('Precip Type', axis=1)\n",
        "y = weather_data_cleaned['Precip Type']\n",
        "\n",
        "scaler = StandardScaler()\n",
        "X_scaled = scaler.fit_transform(X)\n",
        "\n",
        "X_train, X_test, y_train, y_test = train_test_split(X_scaled, y, test_size=0.2, random_state=42)\n",
        "\n",
        "xgb_model = xgb.XGBClassifier(use_label_encoder=False, eval_metric='logloss')\n",
        "xgb_model.fit(X_train, y_train)\n",
        "\n",
        "y_pred_xgb = xgb_model.predict(X_test)\n",
        "accuracy_xgb = accuracy_score(y_test, y_pred_xgb)\n",
        "report_xgb = classification_report(y_test, y_pred_xgb)\n",
        "\n",
        "print(f\"Accuracy (XGBoost): {accuracy_xgb}\")\n",
        "print(\"Classification Report (XGBoost):\")\n",
        "print(report_xgb)\n"
      ],
      "metadata": {
        "id": "JUycQuNI70_p"
      },
      "execution_count": null,
      "outputs": []
    }
  ]
}